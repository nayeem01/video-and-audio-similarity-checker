{
  "cells": [
    {
      "cell_type": "code",
      "execution_count": 1,
      "metadata": {
        "colab": {
          "base_uri": "https://localhost:8080/"
        },
        "collapsed": true,
        "id": "MO_6LEj31Y2j",
        "outputId": "cf00ee6b-a756-4262-8c71-83be84f9480a"
      },
      "outputs": [
        {
          "name": "stdout",
          "output_type": "stream",
          "text": [
            "Collecting pytube3\n",
            "  Downloading pytube3-9.6.4-py3-none-any.whl (38 kB)\n",
            "Requirement already satisfied: librosa in /usr/local/lib/python3.10/dist-packages (0.10.2.post1)\n",
            "Requirement already satisfied: opencv-python in /usr/local/lib/python3.10/dist-packages (4.8.0.76)\n",
            "Requirement already satisfied: scipy in /usr/local/lib/python3.10/dist-packages (1.11.4)\n",
            "Requirement already satisfied: tensorflow in /usr/local/lib/python3.10/dist-packages (2.15.0)\n",
            "Requirement already satisfied: tqdm in /usr/local/lib/python3.10/dist-packages (4.66.4)\n",
            "Requirement already satisfied: soundfile in /usr/local/lib/python3.10/dist-packages (0.12.1)\n",
            "Requirement already satisfied: audioread in /usr/local/lib/python3.10/dist-packages (3.0.1)\n",
            "Requirement already satisfied: gdown in /usr/local/lib/python3.10/dist-packages (5.1.0)\n",
            "Requirement already satisfied: typing-extensions in /usr/local/lib/python3.10/dist-packages (from pytube3) (4.12.2)\n",
            "Requirement already satisfied: numpy!=1.22.0,!=1.22.1,!=1.22.2,>=1.20.3 in /usr/local/lib/python3.10/dist-packages (from librosa) (1.25.2)\n",
            "Requirement already satisfied: scikit-learn>=0.20.0 in /usr/local/lib/python3.10/dist-packages (from librosa) (1.2.2)\n",
            "Requirement already satisfied: joblib>=0.14 in /usr/local/lib/python3.10/dist-packages (from librosa) (1.4.2)\n",
            "Requirement already satisfied: decorator>=4.3.0 in /usr/local/lib/python3.10/dist-packages (from librosa) (4.4.2)\n",
            "Requirement already satisfied: numba>=0.51.0 in /usr/local/lib/python3.10/dist-packages (from librosa) (0.58.1)\n",
            "Requirement already satisfied: pooch>=1.1 in /usr/local/lib/python3.10/dist-packages (from librosa) (1.8.2)\n",
            "Requirement already satisfied: soxr>=0.3.2 in /usr/local/lib/python3.10/dist-packages (from librosa) (0.3.7)\n",
            "Requirement already satisfied: lazy-loader>=0.1 in /usr/local/lib/python3.10/dist-packages (from librosa) (0.4)\n",
            "Requirement already satisfied: msgpack>=1.0 in /usr/local/lib/python3.10/dist-packages (from librosa) (1.0.8)\n",
            "Requirement already satisfied: absl-py>=1.0.0 in /usr/local/lib/python3.10/dist-packages (from tensorflow) (1.4.0)\n",
            "Requirement already satisfied: astunparse>=1.6.0 in /usr/local/lib/python3.10/dist-packages (from tensorflow) (1.6.3)\n",
            "Requirement already satisfied: flatbuffers>=23.5.26 in /usr/local/lib/python3.10/dist-packages (from tensorflow) (24.3.25)\n",
            "Requirement already satisfied: gast!=0.5.0,!=0.5.1,!=0.5.2,>=0.2.1 in /usr/local/lib/python3.10/dist-packages (from tensorflow) (0.6.0)\n",
            "Requirement already satisfied: google-pasta>=0.1.1 in /usr/local/lib/python3.10/dist-packages (from tensorflow) (0.2.0)\n",
            "Requirement already satisfied: h5py>=2.9.0 in /usr/local/lib/python3.10/dist-packages (from tensorflow) (3.9.0)\n",
            "Requirement already satisfied: libclang>=13.0.0 in /usr/local/lib/python3.10/dist-packages (from tensorflow) (18.1.1)\n",
            "Requirement already satisfied: ml-dtypes~=0.2.0 in /usr/local/lib/python3.10/dist-packages (from tensorflow) (0.2.0)\n",
            "Requirement already satisfied: opt-einsum>=2.3.2 in /usr/local/lib/python3.10/dist-packages (from tensorflow) (3.3.0)\n",
            "Requirement already satisfied: packaging in /usr/local/lib/python3.10/dist-packages (from tensorflow) (24.1)\n",
            "Requirement already satisfied: protobuf!=4.21.0,!=4.21.1,!=4.21.2,!=4.21.3,!=4.21.4,!=4.21.5,<5.0.0dev,>=3.20.3 in /usr/local/lib/python3.10/dist-packages (from tensorflow) (3.20.3)\n",
            "Requirement already satisfied: setuptools in /usr/local/lib/python3.10/dist-packages (from tensorflow) (67.7.2)\n",
            "Requirement already satisfied: six>=1.12.0 in /usr/local/lib/python3.10/dist-packages (from tensorflow) (1.16.0)\n",
            "Requirement already satisfied: termcolor>=1.1.0 in /usr/local/lib/python3.10/dist-packages (from tensorflow) (2.4.0)\n",
            "Requirement already satisfied: wrapt<1.15,>=1.11.0 in /usr/local/lib/python3.10/dist-packages (from tensorflow) (1.14.1)\n",
            "Requirement already satisfied: tensorflow-io-gcs-filesystem>=0.23.1 in /usr/local/lib/python3.10/dist-packages (from tensorflow) (0.37.1)\n",
            "Requirement already satisfied: grpcio<2.0,>=1.24.3 in /usr/local/lib/python3.10/dist-packages (from tensorflow) (1.64.1)\n",
            "Requirement already satisfied: tensorboard<2.16,>=2.15 in /usr/local/lib/python3.10/dist-packages (from tensorflow) (2.15.2)\n",
            "Requirement already satisfied: tensorflow-estimator<2.16,>=2.15.0 in /usr/local/lib/python3.10/dist-packages (from tensorflow) (2.15.0)\n",
            "Requirement already satisfied: keras<2.16,>=2.15.0 in /usr/local/lib/python3.10/dist-packages (from tensorflow) (2.15.0)\n",
            "Requirement already satisfied: cffi>=1.0 in /usr/local/lib/python3.10/dist-packages (from soundfile) (1.16.0)\n",
            "Requirement already satisfied: beautifulsoup4 in /usr/local/lib/python3.10/dist-packages (from gdown) (4.12.3)\n",
            "Requirement already satisfied: filelock in /usr/local/lib/python3.10/dist-packages (from gdown) (3.15.4)\n",
            "Requirement already satisfied: requests[socks] in /usr/local/lib/python3.10/dist-packages (from gdown) (2.31.0)\n",
            "Requirement already satisfied: wheel<1.0,>=0.23.0 in /usr/local/lib/python3.10/dist-packages (from astunparse>=1.6.0->tensorflow) (0.43.0)\n",
            "Requirement already satisfied: pycparser in /usr/local/lib/python3.10/dist-packages (from cffi>=1.0->soundfile) (2.22)\n",
            "Requirement already satisfied: llvmlite<0.42,>=0.41.0dev0 in /usr/local/lib/python3.10/dist-packages (from numba>=0.51.0->librosa) (0.41.1)\n",
            "Requirement already satisfied: platformdirs>=2.5.0 in /usr/local/lib/python3.10/dist-packages (from pooch>=1.1->librosa) (4.2.2)\n",
            "Requirement already satisfied: threadpoolctl>=2.0.0 in /usr/local/lib/python3.10/dist-packages (from scikit-learn>=0.20.0->librosa) (3.5.0)\n",
            "Requirement already satisfied: google-auth<3,>=1.6.3 in /usr/local/lib/python3.10/dist-packages (from tensorboard<2.16,>=2.15->tensorflow) (2.27.0)\n",
            "Requirement already satisfied: google-auth-oauthlib<2,>=0.5 in /usr/local/lib/python3.10/dist-packages (from tensorboard<2.16,>=2.15->tensorflow) (1.2.1)\n",
            "Requirement already satisfied: markdown>=2.6.8 in /usr/local/lib/python3.10/dist-packages (from tensorboard<2.16,>=2.15->tensorflow) (3.6)\n",
            "Requirement already satisfied: tensorboard-data-server<0.8.0,>=0.7.0 in /usr/local/lib/python3.10/dist-packages (from tensorboard<2.16,>=2.15->tensorflow) (0.7.2)\n",
            "Requirement already satisfied: werkzeug>=1.0.1 in /usr/local/lib/python3.10/dist-packages (from tensorboard<2.16,>=2.15->tensorflow) (3.0.3)\n",
            "Requirement already satisfied: soupsieve>1.2 in /usr/local/lib/python3.10/dist-packages (from beautifulsoup4->gdown) (2.5)\n",
            "Requirement already satisfied: charset-normalizer<4,>=2 in /usr/local/lib/python3.10/dist-packages (from requests[socks]->gdown) (3.3.2)\n",
            "Requirement already satisfied: idna<4,>=2.5 in /usr/local/lib/python3.10/dist-packages (from requests[socks]->gdown) (3.7)\n",
            "Requirement already satisfied: urllib3<3,>=1.21.1 in /usr/local/lib/python3.10/dist-packages (from requests[socks]->gdown) (2.0.7)\n",
            "Requirement already satisfied: certifi>=2017.4.17 in /usr/local/lib/python3.10/dist-packages (from requests[socks]->gdown) (2024.7.4)\n",
            "Requirement already satisfied: PySocks!=1.5.7,>=1.5.6 in /usr/local/lib/python3.10/dist-packages (from requests[socks]->gdown) (1.7.1)\n",
            "Requirement already satisfied: cachetools<6.0,>=2.0.0 in /usr/local/lib/python3.10/dist-packages (from google-auth<3,>=1.6.3->tensorboard<2.16,>=2.15->tensorflow) (5.3.3)\n",
            "Requirement already satisfied: pyasn1-modules>=0.2.1 in /usr/local/lib/python3.10/dist-packages (from google-auth<3,>=1.6.3->tensorboard<2.16,>=2.15->tensorflow) (0.4.0)\n",
            "Requirement already satisfied: rsa<5,>=3.1.4 in /usr/local/lib/python3.10/dist-packages (from google-auth<3,>=1.6.3->tensorboard<2.16,>=2.15->tensorflow) (4.9)\n",
            "Requirement already satisfied: requests-oauthlib>=0.7.0 in /usr/local/lib/python3.10/dist-packages (from google-auth-oauthlib<2,>=0.5->tensorboard<2.16,>=2.15->tensorflow) (1.3.1)\n",
            "Requirement already satisfied: MarkupSafe>=2.1.1 in /usr/local/lib/python3.10/dist-packages (from werkzeug>=1.0.1->tensorboard<2.16,>=2.15->tensorflow) (2.1.5)\n",
            "Requirement already satisfied: pyasn1<0.7.0,>=0.4.6 in /usr/local/lib/python3.10/dist-packages (from pyasn1-modules>=0.2.1->google-auth<3,>=1.6.3->tensorboard<2.16,>=2.15->tensorflow) (0.6.0)\n",
            "Requirement already satisfied: oauthlib>=3.0.0 in /usr/local/lib/python3.10/dist-packages (from requests-oauthlib>=0.7.0->google-auth-oauthlib<2,>=0.5->tensorboard<2.16,>=2.15->tensorflow) (3.2.2)\n",
            "Installing collected packages: pytube3\n",
            "Successfully installed pytube3-9.6.4\n"
          ]
        }
      ],
      "source": [
        "!pip install librosa opencv-python scipy tensorflow tqdm audioread gdown\n"
      ]
    },
    {
      "cell_type": "markdown",
      "metadata": {
        "id": "kRjU7dj6WpUh"
      },
      "source": [
        "\n",
        "### Downloading Videos from Google Drive\n",
        "\n"
      ]
    },
    {
      "cell_type": "code",
      "execution_count": 2,
      "metadata": {
        "id": "5sMYTIiLVKjb"
      },
      "outputs": [],
      "source": [
        "import gdown\n",
        "\n",
        "def download_video(url, path):\n",
        "\n",
        "    file_id_video = url.split('/')[5]\n",
        "    download_url_video = f'https://drive.google.com/uc?id={file_id_video}'\n",
        "    gdown.download(download_url_video, path, quiet=False)\n",
        "\n",
        "    print(f\"Video downloaded to: {path}\")"
      ]
    },
    {
      "cell_type": "code",
      "execution_count": 3,
      "metadata": {
        "colab": {
          "base_uri": "https://localhost:8080/"
        },
        "id": "fg7D_JqiU2J_",
        "outputId": "40bcf1d1-679f-4cfc-e39e-129df987cd46"
      },
      "outputs": [
        {
          "name": "stderr",
          "output_type": "stream",
          "text": [
            "Downloading...\n",
            "From: https://drive.google.com/uc?id=1vrz_EJ3D1j6yYi5NnlTYssfGoyq1vqnw\n",
            "To: /content/cut-part .mp4\n",
            "100%|██████████| 3.81M/3.81M [00:00<00:00, 156MB/s]\n"
          ]
        },
        {
          "name": "stdout",
          "output_type": "stream",
          "text": [
            "Video downloaded to: /content/\n"
          ]
        },
        {
          "name": "stderr",
          "output_type": "stream",
          "text": [
            "Downloading...\n",
            "From: https://drive.google.com/uc?id=1sb5ODQcGu-N3f_6XllVTBAsMzRaMGWEn\n",
            "To: /content/main .mp4\n",
            "100%|██████████| 11.8M/11.8M [00:00<00:00, 80.2MB/s]"
          ]
        },
        {
          "name": "stdout",
          "output_type": "stream",
          "text": [
            "Video downloaded to: /content/\n"
          ]
        },
        {
          "name": "stderr",
          "output_type": "stream",
          "text": [
            "\n"
          ]
        }
      ],
      "source": [
        "\n",
        "sharing_link_video1 = 'https://drive.google.com/file/d/1vrz_EJ3D1j6yYi5NnlTYssfGoyq1vqnw/view?usp=drive_link'\n",
        "sharing_link_video2 = 'https://drive.google.com/file/d/1sb5ODQcGu-N3f_6XllVTBAsMzRaMGWEn/view?usp=drive_link'\n",
        "\n",
        "path = '/content/'\n",
        "download_video(sharing_link_video1, path)\n",
        "download_video(sharing_link_video2, path)\n"
      ]
    },
    {
      "cell_type": "code",
      "execution_count": 23,
      "metadata": {
        "id": "n5J2MIhKB3ez"
      },
      "outputs": [],
      "source": [
        "import librosa\n",
        "import audioread\n",
        "import cv2\n",
        "import numpy as np\n",
        "from scipy.spatial.distance import cosine\n",
        "from tensorflow.keras.preprocessing import image\n",
        "from tqdm import tqdm\n",
        "\n",
        "from tensorflow.keras.applications import ResNet50\n",
        "from tensorflow.keras.applications.resnet50 import preprocess_input as preprocess_resnet\n",
        "\n",
        "from tensorflow.keras.applications import InceptionV3\n",
        "from tensorflow.keras.applications.inception_v3 import preprocess_input as preprocess_inception\n",
        "\n"
      ]
    },
    {
      "cell_type": "markdown",
      "metadata": {
        "id": "hygsSoCqg5Ob"
      },
      "source": [
        "> Loading video files to extract audio features\n",
        "\n",
        "\n"
      ]
    },
    {
      "cell_type": "code",
      "execution_count": 5,
      "metadata": {
        "id": "I7jM325BU9Fa"
      },
      "outputs": [],
      "source": [
        "def load_audio(video_path):\n",
        "    with audioread.audio_open(video_path) as input_file:\n",
        "        sr = input_file.samplerate\n",
        "        y = np.concatenate([np.frombuffer(buf, dtype=np.int16) for buf in input_file])\n",
        "        y = librosa.util.buf_to_float(y, n_bytes=2, dtype=np.float32)\n",
        "    return y, sr"
      ]
    },
    {
      "cell_type": "markdown",
      "metadata": {
        "id": "Lsbj6FHUhYwi"
      },
      "source": [
        ">Extracting audio features from video files using **librosa**. These features include MFCCs, chroma, spectral contrast, tonnetz, mel spectrogram, and zero-crossing rate.\n",
        "\n"
      ]
    },
    {
      "cell_type": "code",
      "execution_count": 6,
      "metadata": {
        "id": "z8FnQH9EAgmy"
      },
      "outputs": [],
      "source": [
        "def extract_audio_features(video_path):\n",
        "    y, sr = load_audio(video_path)\n",
        "    mfccs = librosa.feature.mfcc(y=y, sr=sr, n_mfcc=13)\n",
        "    chroma = librosa.feature.chroma_stft(y=y, sr=sr)\n",
        "    spectral_contrast = librosa.feature.spectral_contrast(y=y, sr=sr)\n",
        "    tonnetz = librosa.feature.tonnetz(y=librosa.effects.harmonic(y), sr=sr)\n",
        "    mel_spectrogram = librosa.feature.melspectrogram(y=y, sr=sr)\n",
        "    zero_crossings = librosa.feature.zero_crossing_rate(y)\n",
        "    return np.concatenate((mfccs, chroma, spectral_contrast, tonnetz, mel_spectrogram, zero_crossings), axis=0)"
      ]
    },
    {
      "cell_type": "markdown",
      "metadata": {
        "id": "_BUSqXvWlMhC"
      },
      "source": [
        "> To check if features are similar, I am using the cosine distance. Cosine distance is typically used to measure dissimilarity. Subtracting the mean distance from 1 converts it to a similarity score, where higher values indicate higher similarity."
      ]
    },
    {
      "cell_type": "code",
      "execution_count": 7,
      "metadata": {
        "id": "7KaXyCq1lKSW"
      },
      "outputs": [],
      "source": [
        "def calculate_audio_similarity(features1, features2):\n",
        "    min_length = min(features1.shape[1], features2.shape[1])\n",
        "    features1 = features1[:, :min_length]\n",
        "    features2 = features2[:, :min_length]\n",
        "    distances = [cosine(f1, f2) for f1, f2 in zip(features1.T, features2.T)]\n",
        "    similarity = 1 - np.mean(distances)\n",
        "    return similarity * 100\n"
      ]
    },
    {
      "cell_type": "markdown",
      "metadata": {
        "id": "Ky9yUbTtimL8"
      },
      "source": [
        "> This function aims to extract visual features from video files using the pre-trained deep-learning model. I am using two different models, Resnet50 and InceptionV3. Additionally, OpenCV to read and extract video frames."
      ]
    },
    {
      "cell_type": "code",
      "execution_count": 26,
      "metadata": {
        "id": "ZWrzg-mcAgka"
      },
      "outputs": [],
      "source": [
        "def extract_visual_features(video_path, shape, model, batch_size=32):\n",
        "    cap = cv2.VideoCapture(video_path)\n",
        "    features = []\n",
        "    frames = []\n",
        "    frame_count = int(cap.get(cv2.CAP_PROP_FRAME_COUNT))\n",
        "\n",
        "    for _ in tqdm(range(frame_count), desc=\"Processing Video Frames\"):\n",
        "        ret, frame = cap.read()\n",
        "        if ret:\n",
        "            img = cv2.resize(frame, shape)\n",
        "            img = image.img_to_array(img)\n",
        "            # img = preprocess_input(img)\n",
        "            if model.name == 'resnet50':\n",
        "              img = preprocess_resnet(img)\n",
        "            elif model.name == 'inception_v3':\n",
        "              img = preprocess_inception(img)\n",
        "\n",
        "            frames.append(img)\n",
        "            if len(frames) == batch_size:\n",
        "                batch = np.array(frames)\n",
        "                batch_features = model.predict(batch)\n",
        "                features.extend(batch_features)\n",
        "                frames = []\n",
        "        else:\n",
        "            break\n",
        "\n",
        "    if frames:\n",
        "        batch = np.array(frames)\n",
        "        batch_features = model.predict(batch)\n",
        "        features.extend(batch_features)\n",
        "\n",
        "    cap.release()\n",
        "    return np.array(features)\n",
        "\n",
        "\n"
      ]
    },
    {
      "cell_type": "markdown",
      "metadata": {
        "id": "TKQYjYjUmEHm"
      },
      "source": [
        "> Here I am calculating the **cosine** distance of the features that I extracted from the previous function. A value closer to 1 means that feature vectors are likely to be similar."
      ]
    },
    {
      "cell_type": "code",
      "execution_count": 9,
      "metadata": {
        "id": "NaIiWNxBlGcb"
      },
      "outputs": [],
      "source": [
        "def calculate_visual_similarity(features1, features2):\n",
        "    min_length = min(len(features1), len(features2))\n",
        "    features1 = features1[:min_length]\n",
        "    features2 = features2[:min_length]\n",
        "    distances = [cosine(f1, f2) for f1, f2 in zip(features1, features2)]\n",
        "    similarity = 1 - np.mean(distances)\n",
        "    return similarity * 100"
      ]
    },
    {
      "cell_type": "markdown",
      "metadata": {
        "id": "jjDPEwMpsbcV"
      },
      "source": [
        "> Calculating the overall similarity by taking the average of the audio similarity and visual similarity scores."
      ]
    },
    {
      "cell_type": "code",
      "execution_count": 10,
      "metadata": {
        "id": "Lf9wSXlrAgiD"
      },
      "outputs": [],
      "source": [
        "def calculate_overall_similarity(audio_similarity, visual_similarity):\n",
        "    overall_similarity = (audio_similarity + visual_similarity) / 2\n",
        "    return overall_similarity"
      ]
    },
    {
      "cell_type": "code",
      "execution_count": 30,
      "metadata": {
        "id": "C7qbsnDMTYk4"
      },
      "outputs": [],
      "source": [
        "import pandas as pd\n",
        "\n",
        "video1_path = '/content/cut-part .mp4'\n",
        "video2_path = '/content/main .mp4'\n",
        "\n",
        "results = []\n"
      ]
    },
    {
      "cell_type": "markdown",
      "metadata": {
        "id": "gyvmBBt3vEJp"
      },
      "source": [
        "> Runding audio similarty functions"
      ]
    },
    {
      "cell_type": "code",
      "execution_count": 12,
      "metadata": {
        "colab": {
          "base_uri": "https://localhost:8080/"
        },
        "id": "fQXKRIelun9D",
        "outputId": "821ab599-5d12-4909-f37f-0c04a9df859c"
      },
      "outputs": [
        {
          "name": "stdout",
          "output_type": "stream",
          "text": [
            "Extracting audio features for video 1...\n",
            "Extracting audio features for video 2...\n",
            "Calculating features distance...\n",
            "Audio Similarity: 95.21%\n"
          ]
        }
      ],
      "source": [
        "print(\"Extracting audio features for video 1...\")\n",
        "audio_features1 = extract_audio_features(video1_path)\n",
        "print(\"Extracting audio features for video 2...\")\n",
        "audio_features2 = extract_audio_features(video2_path)\n",
        "\n",
        "print(\"Calculating features distance...\")\n",
        "audio_similarity = calculate_audio_similarity(audio_features1, audio_features2)\n",
        "\n",
        "print(f\"Audio Similarity: {audio_similarity:.2f}%\")\n"
      ]
    },
    {
      "cell_type": "code",
      "execution_count": 13,
      "metadata": {
        "id": "Z_1BFQnrTVe2"
      },
      "outputs": [],
      "source": [
        "def run_video_similarity_model(model_name, model, shape, audio_similarity):\n",
        "\n",
        "    print(\"Extracting visual features for videos...\")\n",
        "    visual_features1 = extract_visual_features(video1_path, shape, model)\n",
        "    visual_features2 = extract_visual_features(video2_path, shape, model)\n",
        "\n",
        "    print(\"Calculating features distance...\")\n",
        "    visual_similarity = calculate_visual_similarity(visual_features1, visual_features2)\n",
        "\n",
        "    overall_similarity_percentage = calculate_overall_similarity(audio_similarity, visual_similarity)\n",
        "\n",
        "    print(f\"Model : {model_name}\")\n",
        "    print(f\"Visual Similarity: {visual_similarity:.2f}%\")\n",
        "    print(f\"Overall Similarity: {overall_similarity_percentage:.2f}%\")\n",
        "\n",
        "    return model_name, visual_similarity, overall_similarity_percentage"
      ]
    },
    {
      "cell_type": "markdown",
      "metadata": {
        "id": "mKT1B8iQc0mx"
      },
      "source": [
        "### Resnet50 model visual similarity Output\n",
        "\n",
        "\n"
      ]
    },
    {
      "cell_type": "code",
      "execution_count": 34,
      "metadata": {
        "colab": {
          "base_uri": "https://localhost:8080/"
        },
        "id": "KDnBDbcPAgfr",
        "outputId": "0f2df66e-7009-40a7-a80c-63a76241ee26"
      },
      "outputs": [
        {
          "name": "stdout",
          "output_type": "stream",
          "text": [
            "Extracting visual features for videos...\n"
          ]
        },
        {
          "name": "stderr",
          "output_type": "stream",
          "text": [
            "Processing Video Frames:   5%|▍         | 16/343 [00:00<00:02, 159.87it/s]"
          ]
        },
        {
          "name": "stdout",
          "output_type": "stream",
          "text": [
            "1/1 [==============================] - 1s 873ms/step\n"
          ]
        },
        {
          "name": "stderr",
          "output_type": "stream",
          "text": [
            "Processing Video Frames:  17%|█▋        | 57/343 [00:01<00:06, 46.98it/s]"
          ]
        },
        {
          "name": "stdout",
          "output_type": "stream",
          "text": [
            "1/1 [==============================] - 0s 35ms/step\n"
          ]
        },
        {
          "name": "stderr",
          "output_type": "stream",
          "text": [
            "\rProcessing Video Frames:  21%|██        | 72/343 [00:01<00:05, 49.00it/s]"
          ]
        },
        {
          "name": "stdout",
          "output_type": "stream",
          "text": [
            "1/1 [==============================] - 0s 30ms/step\n"
          ]
        },
        {
          "name": "stderr",
          "output_type": "stream",
          "text": [
            "Processing Video Frames:  36%|███▌      | 122/343 [00:01<00:02, 86.89it/s]"
          ]
        },
        {
          "name": "stdout",
          "output_type": "stream",
          "text": [
            "1/1 [==============================] - 0s 32ms/step\n"
          ]
        },
        {
          "name": "stderr",
          "output_type": "stream",
          "text": [
            "\rProcessing Video Frames:  40%|████      | 138/343 [00:02<00:02, 81.27it/s]"
          ]
        },
        {
          "name": "stdout",
          "output_type": "stream",
          "text": [
            "1/1 [==============================] - 0s 42ms/step\n"
          ]
        },
        {
          "name": "stderr",
          "output_type": "stream",
          "text": [
            "Processing Video Frames:  54%|█████▍    | 186/343 [00:02<00:01, 100.10it/s]"
          ]
        },
        {
          "name": "stdout",
          "output_type": "stream",
          "text": [
            "1/1 [==============================] - 0s 29ms/step\n"
          ]
        },
        {
          "name": "stderr",
          "output_type": "stream",
          "text": [
            "\rProcessing Video Frames:  59%|█████▉    | 202/343 [00:02<00:01, 84.55it/s] "
          ]
        },
        {
          "name": "stdout",
          "output_type": "stream",
          "text": [
            "1/1 [==============================] - 0s 32ms/step\n"
          ]
        },
        {
          "name": "stderr",
          "output_type": "stream",
          "text": [
            "\rProcessing Video Frames:  65%|██████▌   | 224/343 [00:03<00:01, 86.19it/s]"
          ]
        },
        {
          "name": "stdout",
          "output_type": "stream",
          "text": [
            "1/1 [==============================] - 0s 37ms/step\n"
          ]
        },
        {
          "name": "stderr",
          "output_type": "stream",
          "text": [
            "Processing Video Frames:  84%|████████▎ | 287/343 [00:03<00:00, 125.06it/s]"
          ]
        },
        {
          "name": "stdout",
          "output_type": "stream",
          "text": [
            "1/1 [==============================] - 0s 30ms/step\n"
          ]
        },
        {
          "name": "stderr",
          "output_type": "stream",
          "text": [
            "\rProcessing Video Frames:  89%|████████▉ | 305/343 [00:03<00:00, 110.26it/s]"
          ]
        },
        {
          "name": "stdout",
          "output_type": "stream",
          "text": [
            "1/1 [==============================] - 0s 30ms/step\n"
          ]
        },
        {
          "name": "stderr",
          "output_type": "stream",
          "text": [
            "Processing Video Frames: 100%|██████████| 343/343 [00:04<00:00, 83.23it/s]\n"
          ]
        },
        {
          "name": "stdout",
          "output_type": "stream",
          "text": [
            "1/1 [==============================] - 1s 874ms/step\n"
          ]
        },
        {
          "name": "stderr",
          "output_type": "stream",
          "text": [
            "Processing Video Frames:   2%|▏         | 23/1028 [00:00<00:04, 229.52it/s]"
          ]
        },
        {
          "name": "stdout",
          "output_type": "stream",
          "text": [
            "1/1 [==============================] - 0s 31ms/step\n"
          ]
        },
        {
          "name": "stderr",
          "output_type": "stream",
          "text": [
            "\rProcessing Video Frames:   4%|▍         | 46/1028 [00:00<00:09, 101.72it/s]"
          ]
        },
        {
          "name": "stdout",
          "output_type": "stream",
          "text": [
            "1/1 [==============================] - 0s 30ms/step\n"
          ]
        },
        {
          "name": "stderr",
          "output_type": "stream",
          "text": [
            "Processing Video Frames:   9%|▉         | 92/1028 [00:00<00:07, 127.50it/s]"
          ]
        },
        {
          "name": "stdout",
          "output_type": "stream",
          "text": [
            "1/1 [==============================] - 0s 30ms/step\n"
          ]
        },
        {
          "name": "stderr",
          "output_type": "stream",
          "text": [
            "\rProcessing Video Frames:  11%|█         | 110/1028 [00:01<00:08, 106.67it/s]"
          ]
        },
        {
          "name": "stdout",
          "output_type": "stream",
          "text": [
            "1/1 [==============================] - 0s 36ms/step\n"
          ]
        },
        {
          "name": "stderr",
          "output_type": "stream",
          "text": [
            "Processing Video Frames:  15%|█▍        | 153/1028 [00:01<00:07, 113.59it/s]"
          ]
        },
        {
          "name": "stdout",
          "output_type": "stream",
          "text": [
            "1/1 [==============================] - 0s 44ms/step\n"
          ]
        },
        {
          "name": "stderr",
          "output_type": "stream",
          "text": [
            "Processing Video Frames:  18%|█▊        | 186/1028 [00:01<00:08, 95.62it/s]"
          ]
        },
        {
          "name": "stdout",
          "output_type": "stream",
          "text": [
            "1/1 [==============================] - 0s 46ms/step\n"
          ]
        },
        {
          "name": "stderr",
          "output_type": "stream",
          "text": [
            "Processing Video Frames:  21%|██        | 216/1028 [00:02<00:09, 82.98it/s]"
          ]
        },
        {
          "name": "stdout",
          "output_type": "stream",
          "text": [
            "1/1 [==============================] - 0s 39ms/step\n"
          ]
        },
        {
          "name": "stderr",
          "output_type": "stream",
          "text": [
            "Processing Video Frames:  24%|██▎       | 243/1028 [00:02<00:10, 76.51it/s]"
          ]
        },
        {
          "name": "stdout",
          "output_type": "stream",
          "text": [
            "1/1 [==============================] - 0s 44ms/step\n"
          ]
        },
        {
          "name": "stderr",
          "output_type": "stream",
          "text": [
            "Processing Video Frames:  27%|██▋       | 282/1028 [00:03<00:09, 80.04it/s]"
          ]
        },
        {
          "name": "stdout",
          "output_type": "stream",
          "text": [
            "1/1 [==============================] - 0s 45ms/step\n"
          ]
        },
        {
          "name": "stderr",
          "output_type": "stream",
          "text": [
            "Processing Video Frames:  30%|██▉       | 308/1028 [00:03<00:10, 69.70it/s]"
          ]
        },
        {
          "name": "stdout",
          "output_type": "stream",
          "text": [
            "1/1 [==============================] - 0s 44ms/step\n"
          ]
        },
        {
          "name": "stderr",
          "output_type": "stream",
          "text": [
            "Processing Video Frames:  33%|███▎      | 342/1028 [00:04<00:08, 79.50it/s]"
          ]
        },
        {
          "name": "stdout",
          "output_type": "stream",
          "text": [
            "1/1 [==============================] - 0s 30ms/step\n"
          ]
        },
        {
          "name": "stderr",
          "output_type": "stream",
          "text": [
            "Processing Video Frames:  37%|███▋      | 381/1028 [00:04<00:06, 105.65it/s]"
          ]
        },
        {
          "name": "stdout",
          "output_type": "stream",
          "text": [
            "1/1 [==============================] - 0s 30ms/step\n"
          ]
        },
        {
          "name": "stderr",
          "output_type": "stream",
          "text": [
            "\rProcessing Video Frames:  39%|███▊      | 396/1028 [00:04<00:07, 89.86it/s] "
          ]
        },
        {
          "name": "stdout",
          "output_type": "stream",
          "text": [
            "1/1 [==============================] - 0s 63ms/step\n"
          ]
        },
        {
          "name": "stderr",
          "output_type": "stream",
          "text": [
            "Processing Video Frames:  43%|████▎     | 438/1028 [00:05<00:07, 78.86it/s]"
          ]
        },
        {
          "name": "stdout",
          "output_type": "stream",
          "text": [
            "1/1 [==============================] - 0s 29ms/step\n"
          ]
        },
        {
          "name": "stderr",
          "output_type": "stream",
          "text": [
            "Processing Video Frames:  46%|████▌     | 473/1028 [00:05<00:05, 97.68it/s]"
          ]
        },
        {
          "name": "stdout",
          "output_type": "stream",
          "text": [
            "1/1 [==============================] - 0s 31ms/step\n"
          ]
        },
        {
          "name": "stderr",
          "output_type": "stream",
          "text": [
            "\rProcessing Video Frames:  47%|████▋     | 486/1028 [00:05<00:06, 83.06it/s]"
          ]
        },
        {
          "name": "stdout",
          "output_type": "stream",
          "text": [
            "1/1 [==============================] - 0s 30ms/step\n"
          ]
        },
        {
          "name": "stderr",
          "output_type": "stream",
          "text": [
            "Processing Video Frames:  52%|█████▏    | 538/1028 [00:06<00:04, 117.44it/s]"
          ]
        },
        {
          "name": "stdout",
          "output_type": "stream",
          "text": [
            "1/1 [==============================] - 0s 32ms/step\n"
          ]
        },
        {
          "name": "stderr",
          "output_type": "stream",
          "text": [
            "\rProcessing Video Frames:  54%|█████▍    | 554/1028 [00:06<00:05, 93.31it/s] "
          ]
        },
        {
          "name": "stdout",
          "output_type": "stream",
          "text": [
            "1/1 [==============================] - 0s 31ms/step\n"
          ]
        },
        {
          "name": "stderr",
          "output_type": "stream",
          "text": [
            "Processing Video Frames:  59%|█████▉    | 604/1028 [00:06<00:03, 120.57it/s]"
          ]
        },
        {
          "name": "stdout",
          "output_type": "stream",
          "text": [
            "1/1 [==============================] - 0s 30ms/step\n"
          ]
        },
        {
          "name": "stderr",
          "output_type": "stream",
          "text": [
            "\rProcessing Video Frames:  60%|██████    | 620/1028 [00:07<00:04, 101.13it/s]"
          ]
        },
        {
          "name": "stdout",
          "output_type": "stream",
          "text": [
            "1/1 [==============================] - 0s 30ms/step\n"
          ]
        },
        {
          "name": "stderr",
          "output_type": "stream",
          "text": [
            "Processing Video Frames:  64%|██████▍   | 661/1028 [00:07<00:03, 110.64it/s]"
          ]
        },
        {
          "name": "stdout",
          "output_type": "stream",
          "text": [
            "1/1 [==============================] - 0s 29ms/step\n"
          ]
        },
        {
          "name": "stderr",
          "output_type": "stream",
          "text": [
            "\rProcessing Video Frames:  66%|██████▌   | 676/1028 [00:07<00:03, 88.48it/s] "
          ]
        },
        {
          "name": "stdout",
          "output_type": "stream",
          "text": [
            "1/1 [==============================] - 0s 31ms/step\n"
          ]
        },
        {
          "name": "stderr",
          "output_type": "stream",
          "text": [
            "Processing Video Frames:  71%|███████   | 730/1028 [00:08<00:02, 114.62it/s]"
          ]
        },
        {
          "name": "stdout",
          "output_type": "stream",
          "text": [
            "1/1 [==============================] - 0s 29ms/step\n"
          ]
        },
        {
          "name": "stderr",
          "output_type": "stream",
          "text": [
            "\rProcessing Video Frames:  73%|███████▎  | 746/1028 [00:08<00:02, 101.04it/s]"
          ]
        },
        {
          "name": "stdout",
          "output_type": "stream",
          "text": [
            "1/1 [==============================] - 0s 29ms/step\n"
          ]
        },
        {
          "name": "stderr",
          "output_type": "stream",
          "text": [
            "Processing Video Frames:  77%|███████▋  | 792/1028 [00:08<00:01, 118.52it/s]"
          ]
        },
        {
          "name": "stdout",
          "output_type": "stream",
          "text": [
            "1/1 [==============================] - 0s 30ms/step\n"
          ]
        },
        {
          "name": "stderr",
          "output_type": "stream",
          "text": [
            "\rProcessing Video Frames:  79%|███████▊  | 808/1028 [00:09<00:02, 100.95it/s]"
          ]
        },
        {
          "name": "stdout",
          "output_type": "stream",
          "text": [
            "1/1 [==============================] - 0s 29ms/step\n"
          ]
        },
        {
          "name": "stderr",
          "output_type": "stream",
          "text": [
            "Processing Video Frames:  84%|████████▍ | 862/1028 [00:09<00:01, 121.66it/s]"
          ]
        },
        {
          "name": "stdout",
          "output_type": "stream",
          "text": [
            "1/1 [==============================] - 0s 37ms/step\n"
          ]
        },
        {
          "name": "stderr",
          "output_type": "stream",
          "text": [
            "\rProcessing Video Frames:  86%|████████▌ | 879/1028 [00:09<00:01, 95.61it/s] "
          ]
        },
        {
          "name": "stdout",
          "output_type": "stream",
          "text": [
            "1/1 [==============================] - 0s 30ms/step\n"
          ]
        },
        {
          "name": "stderr",
          "output_type": "stream",
          "text": [
            "Processing Video Frames:  90%|████████▉ | 922/1028 [00:10<00:00, 111.33it/s]"
          ]
        },
        {
          "name": "stdout",
          "output_type": "stream",
          "text": [
            "1/1 [==============================] - 0s 30ms/step\n"
          ]
        },
        {
          "name": "stderr",
          "output_type": "stream",
          "text": [
            "\rProcessing Video Frames:  91%|█████████ | 938/1028 [00:10<00:00, 95.26it/s] "
          ]
        },
        {
          "name": "stdout",
          "output_type": "stream",
          "text": [
            "1/1 [==============================] - 0s 29ms/step\n"
          ]
        },
        {
          "name": "stderr",
          "output_type": "stream",
          "text": [
            "Processing Video Frames:  96%|█████████▋| 991/1028 [00:10<00:00, 119.48it/s]"
          ]
        },
        {
          "name": "stdout",
          "output_type": "stream",
          "text": [
            "1/1 [==============================] - 0s 34ms/step\n"
          ]
        },
        {
          "name": "stderr",
          "output_type": "stream",
          "text": [
            "\rProcessing Video Frames:  98%|█████████▊| 1008/1028 [00:11<00:00, 104.10it/s]"
          ]
        },
        {
          "name": "stdout",
          "output_type": "stream",
          "text": [
            "1/1 [==============================] - 0s 32ms/step\n"
          ]
        },
        {
          "name": "stderr",
          "output_type": "stream",
          "text": [
            "Processing Video Frames: 100%|██████████| 1028/1028 [00:11<00:00, 90.87it/s]"
          ]
        },
        {
          "name": "stdout",
          "output_type": "stream",
          "text": [
            "1/1 [==============================] - 0s 23ms/step\n",
            "Calculating features distance...\n",
            "Model : Resnet50\n",
            "Visual Similarity: 63.55%\n",
            "Overall Similarity: 79.38%\n"
          ]
        },
        {
          "name": "stderr",
          "output_type": "stream",
          "text": [
            "\n"
          ]
        }
      ],
      "source": [
        "input_shape = (224, 224, 3)\n",
        "shape = (224, 224)\n",
        "model = ResNet50(weights='imagenet', include_top=False, pooling='avg', input_shape=input_shape)\n",
        "\n",
        "result = run_video_similarity_model(\"Resnet50\", model, shape, audio_similarity)\n",
        "\n",
        "results.append(result)"
      ]
    },
    {
      "cell_type": "code",
      "execution_count": 35,
      "metadata": {
        "colab": {
          "base_uri": "https://localhost:8080/"
        },
        "id": "XeOSdUerAgdL",
        "outputId": "96d42dcc-4412-4d4f-9230-9c9268e45092"
      },
      "outputs": [
        {
          "name": "stdout",
          "output_type": "stream",
          "text": [
            "Model saved to /content/ResNet50\n",
            "  adding: content/ResNet50/ (stored 0%)\n",
            "  adding: content/ResNet50/assets/ (stored 0%)\n",
            "  adding: content/ResNet50/saved_model.pb (deflated 92%)\n",
            "  adding: content/ResNet50/fingerprint.pb (stored 0%)\n",
            "  adding: content/ResNet50/variables/ (stored 0%)\n",
            "  adding: content/ResNet50/variables/variables.data-00000-of-00001 (deflated 7%)\n",
            "  adding: content/ResNet50/variables/variables.index (deflated 81%)\n"
          ]
        }
      ],
      "source": [
        "# Save the model\n",
        "save_dir = '/content/ResNet50'\n",
        "tf.saved_model.save(model, save_dir)\n",
        "print(f\"Model saved to {save_dir}\")\n",
        "\n",
        "!zip -r /content/ResNet50.zip /content/ResNet50"
      ]
    },
    {
      "cell_type": "markdown",
      "metadata": {
        "id": "BzzSuupTc_Yt"
      },
      "source": [
        "### InceptionV3 model visual similarity Output\n"
      ]
    },
    {
      "cell_type": "code",
      "execution_count": 32,
      "metadata": {
        "colab": {
          "base_uri": "https://localhost:8080/"
        },
        "id": "j3VqqslKRqeD",
        "outputId": "2ceec9d3-d45e-4c77-8463-8563f5c0a6b5"
      },
      "outputs": [
        {
          "name": "stdout",
          "output_type": "stream",
          "text": [
            "Extracting visual features for videos...\n"
          ]
        },
        {
          "name": "stderr",
          "output_type": "stream",
          "text": [
            "Processing Video Frames:   6%|▌         | 21/343 [00:00<00:03, 96.88it/s]"
          ]
        },
        {
          "name": "stdout",
          "output_type": "stream",
          "text": [
            "1/1 [==============================] - 2s 2s/step\n"
          ]
        },
        {
          "name": "stderr",
          "output_type": "stream",
          "text": [
            "Processing Video Frames:  17%|█▋        | 57/343 [00:02<00:10, 28.10it/s]"
          ]
        },
        {
          "name": "stdout",
          "output_type": "stream",
          "text": [
            "1/1 [==============================] - 0s 57ms/step\n"
          ]
        },
        {
          "name": "stderr",
          "output_type": "stream",
          "text": [
            "\rProcessing Video Frames:  21%|██        | 71/343 [00:02<00:08, 32.62it/s]"
          ]
        },
        {
          "name": "stdout",
          "output_type": "stream",
          "text": [
            "1/1 [==============================] - 0s 48ms/step\n"
          ]
        },
        {
          "name": "stderr",
          "output_type": "stream",
          "text": [
            "Processing Video Frames:  35%|███▍      | 119/343 [00:02<00:03, 62.86it/s]"
          ]
        },
        {
          "name": "stdout",
          "output_type": "stream",
          "text": [
            "1/1 [==============================] - 0s 56ms/step\n"
          ]
        },
        {
          "name": "stderr",
          "output_type": "stream",
          "text": [
            "Processing Video Frames:  45%|████▌     | 155/343 [00:03<00:02, 80.36it/s]"
          ]
        },
        {
          "name": "stdout",
          "output_type": "stream",
          "text": [
            "1/1 [==============================] - 0s 59ms/step\n"
          ]
        },
        {
          "name": "stderr",
          "output_type": "stream",
          "text": [
            "\rProcessing Video Frames:  50%|████▉     | 170/343 [00:03<00:02, 69.92it/s]"
          ]
        },
        {
          "name": "stdout",
          "output_type": "stream",
          "text": [
            "1/1 [==============================] - 0s 125ms/step\n"
          ]
        },
        {
          "name": "stderr",
          "output_type": "stream",
          "text": [
            "Processing Video Frames:  64%|██████▍   | 220/343 [00:04<00:01, 71.22it/s]"
          ]
        },
        {
          "name": "stdout",
          "output_type": "stream",
          "text": [
            "1/1 [==============================] - 0s 81ms/step\n"
          ]
        },
        {
          "name": "stderr",
          "output_type": "stream",
          "text": [
            "Processing Video Frames:  73%|███████▎  | 250/343 [00:04<00:01, 72.71it/s]"
          ]
        },
        {
          "name": "stdout",
          "output_type": "stream",
          "text": [
            "1/1 [==============================] - 0s 90ms/step\n"
          ]
        },
        {
          "name": "stderr",
          "output_type": "stream",
          "text": [
            "\rProcessing Video Frames:  76%|███████▋  | 262/343 [00:05<00:01, 57.57it/s]"
          ]
        },
        {
          "name": "stdout",
          "output_type": "stream",
          "text": [
            "1/1 [==============================] - 0s 55ms/step\n"
          ]
        },
        {
          "name": "stderr",
          "output_type": "stream",
          "text": [
            "Processing Video Frames:  92%|█████████▏| 316/343 [00:05<00:00, 95.88it/s]"
          ]
        },
        {
          "name": "stdout",
          "output_type": "stream",
          "text": [
            "1/1 [==============================] - 0s 64ms/step\n"
          ]
        },
        {
          "name": "stderr",
          "output_type": "stream",
          "text": [
            "Processing Video Frames: 100%|██████████| 343/343 [00:05<00:00, 58.14it/s]\n"
          ]
        },
        {
          "name": "stdout",
          "output_type": "stream",
          "text": [
            "1/1 [==============================] - 1s 1s/step\n"
          ]
        },
        {
          "name": "stderr",
          "output_type": "stream",
          "text": [
            "Processing Video Frames:   2%|▏         | 22/1028 [00:00<00:04, 216.26it/s]"
          ]
        },
        {
          "name": "stdout",
          "output_type": "stream",
          "text": [
            "1/1 [==============================] - 0s 58ms/step\n"
          ]
        },
        {
          "name": "stderr",
          "output_type": "stream",
          "text": [
            "Processing Video Frames:   6%|▌         | 63/1028 [00:00<00:07, 122.62it/s]"
          ]
        },
        {
          "name": "stdout",
          "output_type": "stream",
          "text": [
            "1/1 [==============================] - 0s 56ms/step\n"
          ]
        },
        {
          "name": "stderr",
          "output_type": "stream",
          "text": [
            "\rProcessing Video Frames:   8%|▊         | 79/1028 [00:00<00:10, 88.55it/s] "
          ]
        },
        {
          "name": "stdout",
          "output_type": "stream",
          "text": [
            "1/1 [==============================] - 0s 57ms/step\n"
          ]
        },
        {
          "name": "stderr",
          "output_type": "stream",
          "text": [
            "Processing Video Frames:  12%|█▏        | 124/1028 [00:01<00:08, 110.26it/s]"
          ]
        },
        {
          "name": "stdout",
          "output_type": "stream",
          "text": [
            "1/1 [==============================] - 0s 55ms/step\n"
          ]
        },
        {
          "name": "stderr",
          "output_type": "stream",
          "text": [
            "\rProcessing Video Frames:  14%|█▎        | 140/1028 [00:01<00:10, 86.20it/s] "
          ]
        },
        {
          "name": "stdout",
          "output_type": "stream",
          "text": [
            "1/1 [==============================] - 0s 42ms/step\n"
          ]
        },
        {
          "name": "stderr",
          "output_type": "stream",
          "text": [
            "Processing Video Frames:  18%|█▊        | 187/1028 [00:01<00:07, 109.09it/s]"
          ]
        },
        {
          "name": "stdout",
          "output_type": "stream",
          "text": [
            "1/1 [==============================] - 0s 55ms/step\n"
          ]
        },
        {
          "name": "stderr",
          "output_type": "stream",
          "text": [
            "Processing Video Frames:  22%|██▏       | 222/1028 [00:02<00:07, 103.49it/s]"
          ]
        },
        {
          "name": "stdout",
          "output_type": "stream",
          "text": [
            "1/1 [==============================] - 0s 55ms/step\n"
          ]
        },
        {
          "name": "stderr",
          "output_type": "stream",
          "text": [
            "\rProcessing Video Frames:  23%|██▎       | 237/1028 [00:02<00:09, 82.30it/s] "
          ]
        },
        {
          "name": "stdout",
          "output_type": "stream",
          "text": [
            "1/1 [==============================] - 0s 55ms/step\n"
          ]
        },
        {
          "name": "stderr",
          "output_type": "stream",
          "text": [
            "Processing Video Frames:  27%|██▋       | 281/1028 [00:02<00:07, 101.21it/s]"
          ]
        },
        {
          "name": "stdout",
          "output_type": "stream",
          "text": [
            "1/1 [==============================] - 0s 55ms/step\n"
          ]
        },
        {
          "name": "stderr",
          "output_type": "stream",
          "text": [
            "\rProcessing Video Frames:  29%|██▉       | 296/1028 [00:03<00:08, 83.41it/s] "
          ]
        },
        {
          "name": "stdout",
          "output_type": "stream",
          "text": [
            "1/1 [==============================] - 0s 56ms/step\n"
          ]
        },
        {
          "name": "stderr",
          "output_type": "stream",
          "text": [
            "Processing Video Frames:  34%|███▍      | 350/1028 [00:03<00:06, 100.55it/s]"
          ]
        },
        {
          "name": "stdout",
          "output_type": "stream",
          "text": [
            "1/1 [==============================] - 0s 78ms/step\n"
          ]
        },
        {
          "name": "stderr",
          "output_type": "stream",
          "text": [
            "Processing Video Frames:  37%|███▋      | 377/1028 [00:04<00:07, 82.67it/s]"
          ]
        },
        {
          "name": "stdout",
          "output_type": "stream",
          "text": [
            "1/1 [==============================] - 0s 72ms/step\n"
          ]
        },
        {
          "name": "stderr",
          "output_type": "stream",
          "text": [
            "Processing Video Frames:  39%|███▉      | 403/1028 [00:04<00:09, 68.62it/s]"
          ]
        },
        {
          "name": "stdout",
          "output_type": "stream",
          "text": [
            "1/1 [==============================] - 0s 73ms/step\n"
          ]
        },
        {
          "name": "stderr",
          "output_type": "stream",
          "text": [
            "Processing Video Frames:  43%|████▎     | 445/1028 [00:05<00:07, 78.11it/s]"
          ]
        },
        {
          "name": "stdout",
          "output_type": "stream",
          "text": [
            "1/1 [==============================] - 0s 83ms/step\n"
          ]
        },
        {
          "name": "stderr",
          "output_type": "stream",
          "text": [
            "Processing Video Frames:  46%|████▌     | 471/1028 [00:05<00:08, 66.90it/s]"
          ]
        },
        {
          "name": "stdout",
          "output_type": "stream",
          "text": [
            "1/1 [==============================] - 0s 80ms/step\n"
          ]
        },
        {
          "name": "stderr",
          "output_type": "stream",
          "text": [
            "Processing Video Frames:  49%|████▉     | 508/1028 [00:06<00:06, 82.03it/s]"
          ]
        },
        {
          "name": "stdout",
          "output_type": "stream",
          "text": [
            "1/1 [==============================] - 0s 55ms/step\n"
          ]
        },
        {
          "name": "stderr",
          "output_type": "stream",
          "text": [
            "\rProcessing Video Frames:  51%|█████     | 522/1028 [00:06<00:07, 69.10it/s]"
          ]
        },
        {
          "name": "stdout",
          "output_type": "stream",
          "text": [
            "1/1 [==============================] - 0s 55ms/step\n"
          ]
        },
        {
          "name": "stderr",
          "output_type": "stream",
          "text": [
            "Processing Video Frames:  55%|█████▌    | 569/1028 [00:06<00:04, 94.57it/s]"
          ]
        },
        {
          "name": "stdout",
          "output_type": "stream",
          "text": [
            "1/1 [==============================] - 0s 54ms/step\n"
          ]
        },
        {
          "name": "stderr",
          "output_type": "stream",
          "text": [
            "\rProcessing Video Frames:  57%|█████▋    | 584/1028 [00:07<00:05, 77.95it/s]"
          ]
        },
        {
          "name": "stdout",
          "output_type": "stream",
          "text": [
            "1/1 [==============================] - 0s 56ms/step\n"
          ]
        },
        {
          "name": "stderr",
          "output_type": "stream",
          "text": [
            "Processing Video Frames:  61%|██████▏   | 630/1028 [00:07<00:04, 97.99it/s]"
          ]
        },
        {
          "name": "stdout",
          "output_type": "stream",
          "text": [
            "1/1 [==============================] - 0s 55ms/step\n"
          ]
        },
        {
          "name": "stderr",
          "output_type": "stream",
          "text": [
            "Processing Video Frames:  65%|██████▍   | 667/1028 [00:08<00:03, 102.63it/s]"
          ]
        },
        {
          "name": "stdout",
          "output_type": "stream",
          "text": [
            "1/1 [==============================] - 0s 55ms/step\n"
          ]
        },
        {
          "name": "stderr",
          "output_type": "stream",
          "text": [
            "\rProcessing Video Frames:  66%|██████▋   | 682/1028 [00:08<00:04, 80.46it/s] "
          ]
        },
        {
          "name": "stdout",
          "output_type": "stream",
          "text": [
            "1/1 [==============================] - 0s 54ms/step\n"
          ]
        },
        {
          "name": "stderr",
          "output_type": "stream",
          "text": [
            "Processing Video Frames:  71%|███████   | 731/1028 [00:08<00:02, 99.36it/s]"
          ]
        },
        {
          "name": "stdout",
          "output_type": "stream",
          "text": [
            "1/1 [==============================] - 0s 53ms/step\n"
          ]
        },
        {
          "name": "stderr",
          "output_type": "stream",
          "text": [
            "\rProcessing Video Frames:  73%|███████▎  | 746/1028 [00:09<00:03, 80.59it/s]"
          ]
        },
        {
          "name": "stdout",
          "output_type": "stream",
          "text": [
            "1/1 [==============================] - 0s 60ms/step\n"
          ]
        },
        {
          "name": "stderr",
          "output_type": "stream",
          "text": [
            "Processing Video Frames:  77%|███████▋  | 787/1028 [00:09<00:02, 87.88it/s]"
          ]
        },
        {
          "name": "stdout",
          "output_type": "stream",
          "text": [
            "1/1 [==============================] - 0s 57ms/step\n"
          ]
        },
        {
          "name": "stderr",
          "output_type": "stream",
          "text": [
            "Processing Video Frames:  80%|████████  | 823/1028 [00:10<00:02, 96.56it/s]"
          ]
        },
        {
          "name": "stdout",
          "output_type": "stream",
          "text": [
            "1/1 [==============================] - 0s 55ms/step\n"
          ]
        },
        {
          "name": "stderr",
          "output_type": "stream",
          "text": [
            "\rProcessing Video Frames:  81%|████████▏ | 837/1028 [00:10<00:02, 79.84it/s]"
          ]
        },
        {
          "name": "stdout",
          "output_type": "stream",
          "text": [
            "1/1 [==============================] - 0s 64ms/step\n"
          ]
        },
        {
          "name": "stderr",
          "output_type": "stream",
          "text": [
            "Processing Video Frames:  86%|████████▋ | 888/1028 [00:10<00:01, 104.07it/s]"
          ]
        },
        {
          "name": "stdout",
          "output_type": "stream",
          "text": [
            "1/1 [==============================] - 0s 55ms/step\n"
          ]
        },
        {
          "name": "stderr",
          "output_type": "stream",
          "text": [
            "Processing Video Frames:  90%|████████▉ | 925/1028 [00:11<00:01, 102.93it/s]"
          ]
        },
        {
          "name": "stdout",
          "output_type": "stream",
          "text": [
            "1/1 [==============================] - 0s 57ms/step\n"
          ]
        },
        {
          "name": "stderr",
          "output_type": "stream",
          "text": [
            "\rProcessing Video Frames:  91%|█████████▏| 940/1028 [00:11<00:01, 83.62it/s] "
          ]
        },
        {
          "name": "stdout",
          "output_type": "stream",
          "text": [
            "1/1 [==============================] - 0s 56ms/step\n"
          ]
        },
        {
          "name": "stderr",
          "output_type": "stream",
          "text": [
            "Processing Video Frames:  96%|█████████▌| 985/1028 [00:11<00:00, 98.17it/s]"
          ]
        },
        {
          "name": "stdout",
          "output_type": "stream",
          "text": [
            "1/1 [==============================] - 0s 55ms/step\n"
          ]
        },
        {
          "name": "stderr",
          "output_type": "stream",
          "text": [
            "\rProcessing Video Frames:  97%|█████████▋| 1000/1028 [00:12<00:00, 78.46it/s]"
          ]
        },
        {
          "name": "stdout",
          "output_type": "stream",
          "text": [
            "1/1 [==============================] - 0s 55ms/step\n"
          ]
        },
        {
          "name": "stderr",
          "output_type": "stream",
          "text": [
            "Processing Video Frames: 100%|██████████| 1028/1028 [00:12<00:00, 81.87it/s]"
          ]
        },
        {
          "name": "stdout",
          "output_type": "stream",
          "text": [
            "1/1 [==============================] - 0s 29ms/step\n",
            "Calculating features distance...\n",
            "Model : InceptionV3\n",
            "Visual Similarity: 71.24%\n",
            "Overall Similarity: 83.22%\n"
          ]
        },
        {
          "name": "stderr",
          "output_type": "stream",
          "text": [
            "\n"
          ]
        }
      ],
      "source": [
        "input_shape = (299, 299, 3)\n",
        "shape = (299, 299)\n",
        "model = InceptionV3(weights='imagenet', include_top=False, pooling='avg', input_shape=input_shape)\n",
        "\n",
        "result = run_video_similarity_model(\"InceptionV3\", model, shape, audio_similarity)\n",
        "\n",
        "results.append(result)"
      ]
    },
    {
      "cell_type": "markdown",
      "metadata": {
        "id": "iblfqAittP6J"
      },
      "source": [
        "> Creating a Panda Dataframe Table for output"
      ]
    },
    {
      "cell_type": "code",
      "execution_count": 33,
      "metadata": {
        "colab": {
          "base_uri": "https://localhost:8080/"
        },
        "id": "tWJ5DJdCcrxI",
        "outputId": "fc7fa635-3498-4dc1-d782-a6c480f6237f"
      },
      "outputs": [
        {
          "name": "stdout",
          "output_type": "stream",
          "text": [
            "Audio Similarity: 95.21%\n",
            "\n",
            "\n",
            "Model Performance Table for Video Similarity:\n",
            "         Model  Visual Similarity  Overall Similarity\n",
            "0     Resnet50          63.547446           79.378380\n",
            "1  InceptionV3          71.237009           83.223161\n"
          ]
        }
      ],
      "source": [
        "df = pd.DataFrame(results, columns=['Model', 'Visual Similarity', 'Overall Similarity'])\n",
        "\n",
        "print(f\"Audio Similarity: {audio_similarity:.2f}%\")\n",
        "print('\\n')\n",
        "print(\"Model Performance Table for Video Similarity:\")\n",
        "print(df)"
      ]
    },
    {
      "cell_type": "code",
      "execution_count": null,
      "metadata": {
        "id": "U8fVC3NJT05Y"
      },
      "outputs": [],
      "source": [
        "# Save the model\n",
        "save_dir = '/content/inception_v3_model'\n",
        "tf.saved_model.save(model, save_dir)\n",
        "print(f\"Model saved to {save_dir}\")"
      ]
    },
    {
      "cell_type": "code",
      "execution_count": null,
      "metadata": {
        "id": "psIONbdsAgXy"
      },
      "outputs": [],
      "source": [
        "!zip -r /content/inception_v3_model.zip /content/inception_v3_model\n"
      ]
    }
  ],
  "metadata": {
    "accelerator": "GPU",
    "colab": {
      "gpuType": "T4",
      "provenance": []
    },
    "kernelspec": {
      "display_name": "Python 3",
      "name": "python3"
    },
    "language_info": {
      "name": "python"
    }
  },
  "nbformat": 4,
  "nbformat_minor": 0
}
